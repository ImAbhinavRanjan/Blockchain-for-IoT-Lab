{
  "nbformat": 4,
  "nbformat_minor": 0,
  "metadata": {
    "colab": {
      "provenance": [],
      "authorship_tag": "ABX9TyOzPjaoQ9JItyypJRTH136/",
      "include_colab_link": true
    },
    "kernelspec": {
      "name": "python3",
      "display_name": "Python 3"
    },
    "language_info": {
      "name": "python"
    }
  },
  "cells": [
    {
      "cell_type": "markdown",
      "metadata": {
        "id": "view-in-github",
        "colab_type": "text"
      },
      "source": [
        "<a href=\"https://colab.research.google.com/github/ImAbhinavRanjan/Blockchain-for-IoT-Lab/blob/main/Ex1.ipynb\" target=\"_parent\"><img src=\"https://colab.research.google.com/assets/colab-badge.svg\" alt=\"Open In Colab\"/></a>"
      ]
    },
    {
      "cell_type": "code",
      "execution_count": null,
      "metadata": {
        "colab": {
          "base_uri": "https://localhost:8080/",
          "height": 734
        },
        "id": "HWBpang6wZvt",
        "outputId": "80f37fe3-3410-4a75-9d0b-20908f2762cb"
      },
      "outputs": [
        {
          "output_type": "stream",
          "name": "stdout",
          "text": [
            "Data written: {'temperature': 36.65, 'humidity': 38.97}\n",
            "Data written: {'temperature': 14.12, 'humidity': 38.53}\n",
            "Data written: {'temperature': 33.29, 'humidity': 72.46}\n",
            "Data written: {'temperature': 33.03, 'humidity': 55.02}\n",
            "Data written: {'temperature': 9.35, 'humidity': 19.06}\n",
            "Data written: {'temperature': 31.79, 'humidity': 73.82}\n",
            "Data written: {'temperature': 34.67, 'humidity': 27.29}\n",
            "Data written: {'temperature': 8.62, 'humidity': 80.83}\n",
            "Data written: {'temperature': -9.05, 'humidity': 91.41}\n",
            "Data written: {'temperature': 19.45, 'humidity': 9.02}\n",
            "Data written: {'temperature': 30.88, 'humidity': 98.66}\n",
            "Data written: {'temperature': 6.26, 'humidity': 74.82}\n",
            "Data written: {'temperature': -1.68, 'humidity': 5.21}\n",
            "Data written: {'temperature': -8.16, 'humidity': 34.66}\n",
            "Data written: {'temperature': 24.61, 'humidity': 64.52}\n",
            "Data written: {'temperature': 8.89, 'humidity': 18.3}\n",
            "Data written: {'temperature': 36.15, 'humidity': 71.88}\n",
            "Data written: {'temperature': -6.31, 'humidity': 19.16}\n"
          ]
        },
        {
          "output_type": "error",
          "ename": "KeyboardInterrupt",
          "evalue": "",
          "traceback": [
            "\u001b[0;31m---------------------------------------------------------------------------\u001b[0m",
            "\u001b[0;31mKeyboardInterrupt\u001b[0m                         Traceback (most recent call last)",
            "\u001b[0;32m<ipython-input-1-5b660ca49384>\u001b[0m in \u001b[0;36m<cell line: 24>\u001b[0;34m()\u001b[0m\n\u001b[1;32m     23\u001b[0m \u001b[0;34m\u001b[0m\u001b[0m\n\u001b[1;32m     24\u001b[0m \u001b[0;32mif\u001b[0m \u001b[0m__name__\u001b[0m \u001b[0;34m==\u001b[0m \u001b[0;34m'__main__'\u001b[0m\u001b[0;34m:\u001b[0m\u001b[0;34m\u001b[0m\u001b[0;34m\u001b[0m\u001b[0m\n\u001b[0;32m---> 25\u001b[0;31m     \u001b[0mmain\u001b[0m\u001b[0;34m(\u001b[0m\u001b[0;34m)\u001b[0m\u001b[0;34m\u001b[0m\u001b[0;34m\u001b[0m\u001b[0m\n\u001b[0m",
            "\u001b[0;32m<ipython-input-1-5b660ca49384>\u001b[0m in \u001b[0;36mmain\u001b[0;34m()\u001b[0m\n\u001b[1;32m     20\u001b[0m         \u001b[0mwrite_data_to_json\u001b[0m\u001b[0;34m(\u001b[0m\u001b[0mfilename\u001b[0m\u001b[0;34m,\u001b[0m \u001b[0mdata\u001b[0m\u001b[0;34m)\u001b[0m\u001b[0;34m\u001b[0m\u001b[0;34m\u001b[0m\u001b[0m\n\u001b[1;32m     21\u001b[0m         \u001b[0mprint\u001b[0m\u001b[0;34m(\u001b[0m\u001b[0;34mf\"Data written: {data}\"\u001b[0m\u001b[0;34m)\u001b[0m\u001b[0;34m\u001b[0m\u001b[0;34m\u001b[0m\u001b[0m\n\u001b[0;32m---> 22\u001b[0;31m         \u001b[0mtime\u001b[0m\u001b[0;34m.\u001b[0m\u001b[0msleep\u001b[0m\u001b[0;34m(\u001b[0m\u001b[0;36m2\u001b[0m\u001b[0;34m)\u001b[0m\u001b[0;34m\u001b[0m\u001b[0;34m\u001b[0m\u001b[0m\n\u001b[0m\u001b[1;32m     23\u001b[0m \u001b[0;34m\u001b[0m\u001b[0m\n\u001b[1;32m     24\u001b[0m \u001b[0;32mif\u001b[0m \u001b[0m__name__\u001b[0m \u001b[0;34m==\u001b[0m \u001b[0;34m'__main__'\u001b[0m\u001b[0;34m:\u001b[0m\u001b[0;34m\u001b[0m\u001b[0;34m\u001b[0m\u001b[0m\n",
            "\u001b[0;31mKeyboardInterrupt\u001b[0m: "
          ]
        }
      ],
      "source": [
        "import json\n",
        "import random\n",
        "import time\n",
        "\n",
        "filename = 'data.json'\n",
        "\n",
        "def generate_random_data():\n",
        "    return {\n",
        "        'temperature': round(random.uniform(-10.0, 40.0), 2),\n",
        "        'humidity': round(random.uniform(0.0, 100.0), 2)\n",
        "    }\n",
        "\n",
        "def write_data_to_json(filename, data):\n",
        "    with open(filename, 'w') as file:\n",
        "        json.dump([data], file, indent=4)\n",
        "\n",
        "def main():\n",
        "    while True:\n",
        "        data = generate_random_data()\n",
        "        write_data_to_json(filename, data)\n",
        "        print(f\"Data written: {data}\")\n",
        "        time.sleep(2)\n",
        "\n",
        "if __name__ == '__main__':\n",
        "    main()"
      ]
    }
  ]
}