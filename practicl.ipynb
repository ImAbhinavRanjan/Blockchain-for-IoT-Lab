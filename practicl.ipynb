{
  "nbformat": 4,
  "nbformat_minor": 0,
  "metadata": {
    "colab": {
      "provenance": [],
      "authorship_tag": "ABX9TyO2DGRYU4dp2Y6JrKF8rRVG",
      "include_colab_link": true
    },
    "kernelspec": {
      "name": "python3",
      "display_name": "Python 3"
    },
    "language_info": {
      "name": "python"
    }
  },
  "cells": [
    {
      "cell_type": "markdown",
      "metadata": {
        "id": "view-in-github",
        "colab_type": "text"
      },
      "source": [
        "<a href=\"https://colab.research.google.com/github/ImAbhinavRanjan/Blockchain-for-IoT-Lab/blob/main/practicl.ipynb\" target=\"_parent\"><img src=\"https://colab.research.google.com/assets/colab-badge.svg\" alt=\"Open In Colab\"/></a>"
      ]
    },
    {
      "cell_type": "code",
      "execution_count": null,
      "metadata": {
        "id": "HWBpang6wZvt"
      },
      "outputs": [],
      "source": [
        "import json\n",
        "import random\n",
        "import time\n",
        "import datetime"
      ]
    },
    {
      "cell_type": "code",
      "source": [
        "data = []\n",
        "\n",
        "def data_gen():\n",
        "    data.append({\n",
        "        'timestamp': datetime.datetime.now().isoformat(),\n",
        "        'temperature': random.uniform(20, 30),\n",
        "        'humidity': random.uniform(30, 40)\n",
        "    })\n",
        "    return data\n",
        "\n",
        "interval = 2\n",
        "\n",
        "for i in range(10):\n",
        "    with open('data.json', 'w') as file:\n",
        "        ruth = data_gen()\n",
        "        json.dump(ruth, file, indent=4)\n",
        "        print(ruth)\n",
        "    time.sleep(interval)"
      ],
      "metadata": {
        "colab": {
          "base_uri": "https://localhost:8080/",
          "height": 344
        },
        "id": "dMwiZD8ReuVg",
        "outputId": "bbf5d7bf-fa4e-4c4b-bf4d-6d8b31493484"
      },
      "execution_count": 38,
      "outputs": [
        {
          "output_type": "error",
          "ename": "AttributeError",
          "evalue": "type object 'datetime.datetime' has no attribute 'datetime'",
          "traceback": [
            "\u001b[0;31m---------------------------------------------------------------------------\u001b[0m",
            "\u001b[0;31mAttributeError\u001b[0m                            Traceback (most recent call last)",
            "\u001b[0;32m<ipython-input-38-4b57ee2eade1>\u001b[0m in \u001b[0;36m<cell line: 13>\u001b[0;34m()\u001b[0m\n\u001b[1;32m     13\u001b[0m \u001b[0;32mfor\u001b[0m \u001b[0mi\u001b[0m \u001b[0;32min\u001b[0m \u001b[0mrange\u001b[0m\u001b[0;34m(\u001b[0m\u001b[0;36m10\u001b[0m\u001b[0;34m)\u001b[0m\u001b[0;34m:\u001b[0m\u001b[0;34m\u001b[0m\u001b[0;34m\u001b[0m\u001b[0m\n\u001b[1;32m     14\u001b[0m     \u001b[0;32mwith\u001b[0m \u001b[0mopen\u001b[0m\u001b[0;34m(\u001b[0m\u001b[0;34m'data.json'\u001b[0m\u001b[0;34m,\u001b[0m \u001b[0;34m'w'\u001b[0m\u001b[0;34m)\u001b[0m \u001b[0;32mas\u001b[0m \u001b[0mfile\u001b[0m\u001b[0;34m:\u001b[0m\u001b[0;34m\u001b[0m\u001b[0;34m\u001b[0m\u001b[0m\n\u001b[0;32m---> 15\u001b[0;31m         \u001b[0mruth\u001b[0m \u001b[0;34m=\u001b[0m \u001b[0mdata_gen\u001b[0m\u001b[0;34m(\u001b[0m\u001b[0;34m)\u001b[0m\u001b[0;34m\u001b[0m\u001b[0;34m\u001b[0m\u001b[0m\n\u001b[0m\u001b[1;32m     16\u001b[0m         \u001b[0mjson\u001b[0m\u001b[0;34m.\u001b[0m\u001b[0mdump\u001b[0m\u001b[0;34m(\u001b[0m\u001b[0mruth\u001b[0m\u001b[0;34m,\u001b[0m \u001b[0mfile\u001b[0m\u001b[0;34m,\u001b[0m \u001b[0mindent\u001b[0m\u001b[0;34m=\u001b[0m\u001b[0;36m4\u001b[0m\u001b[0;34m)\u001b[0m\u001b[0;34m\u001b[0m\u001b[0;34m\u001b[0m\u001b[0m\n\u001b[1;32m     17\u001b[0m         \u001b[0mprint\u001b[0m\u001b[0;34m(\u001b[0m\u001b[0mruth\u001b[0m\u001b[0;34m)\u001b[0m\u001b[0;34m\u001b[0m\u001b[0;34m\u001b[0m\u001b[0m\n",
            "\u001b[0;32m<ipython-input-38-4b57ee2eade1>\u001b[0m in \u001b[0;36mdata_gen\u001b[0;34m()\u001b[0m\n\u001b[1;32m      3\u001b[0m \u001b[0;32mdef\u001b[0m \u001b[0mdata_gen\u001b[0m\u001b[0;34m(\u001b[0m\u001b[0;34m)\u001b[0m\u001b[0;34m:\u001b[0m\u001b[0;34m\u001b[0m\u001b[0;34m\u001b[0m\u001b[0m\n\u001b[1;32m      4\u001b[0m     data.append({\n\u001b[0;32m----> 5\u001b[0;31m         \u001b[0;34m'timestamp'\u001b[0m\u001b[0;34m:\u001b[0m \u001b[0mdatetime\u001b[0m\u001b[0;34m.\u001b[0m\u001b[0mdatetime\u001b[0m\u001b[0;34m.\u001b[0m\u001b[0mnow\u001b[0m\u001b[0;34m(\u001b[0m\u001b[0;34m)\u001b[0m\u001b[0;34m.\u001b[0m\u001b[0misoformat\u001b[0m\u001b[0;34m(\u001b[0m\u001b[0;34m)\u001b[0m\u001b[0;34m,\u001b[0m\u001b[0;34m\u001b[0m\u001b[0;34m\u001b[0m\u001b[0m\n\u001b[0m\u001b[1;32m      6\u001b[0m         \u001b[0;34m'temperature'\u001b[0m\u001b[0;34m:\u001b[0m \u001b[0mrandom\u001b[0m\u001b[0;34m.\u001b[0m\u001b[0muniform\u001b[0m\u001b[0;34m(\u001b[0m\u001b[0;36m20\u001b[0m\u001b[0;34m,\u001b[0m \u001b[0;36m30\u001b[0m\u001b[0;34m)\u001b[0m\u001b[0;34m,\u001b[0m\u001b[0;34m\u001b[0m\u001b[0;34m\u001b[0m\u001b[0m\n\u001b[1;32m      7\u001b[0m         \u001b[0;34m'humidity'\u001b[0m\u001b[0;34m:\u001b[0m \u001b[0mrandom\u001b[0m\u001b[0;34m.\u001b[0m\u001b[0muniform\u001b[0m\u001b[0;34m(\u001b[0m\u001b[0;36m30\u001b[0m\u001b[0;34m,\u001b[0m \u001b[0;36m40\u001b[0m\u001b[0;34m)\u001b[0m\u001b[0;34m\u001b[0m\u001b[0;34m\u001b[0m\u001b[0m\n",
            "\u001b[0;31mAttributeError\u001b[0m: type object 'datetime.datetime' has no attribute 'datetime'"
          ]
        }
      ]
    },
    {
      "cell_type": "code",
      "source": [
        "!pip install pycryptodome\n",
        "from Crypto.Cipher import AES\n",
        "from Crypto.Util.Padding import pad, unpad\n",
        "from Crypto.Random import get_random_bytes"
      ],
      "metadata": {
        "colab": {
          "base_uri": "https://localhost:8080/"
        },
        "id": "Y-Gl_J1Y3OHq",
        "outputId": "9c427a15-1ec8-48a8-b58e-5acf80532303"
      },
      "execution_count": 43,
      "outputs": [
        {
          "output_type": "stream",
          "name": "stdout",
          "text": [
            "Collecting pycryptodome\n",
            "  Downloading pycryptodome-3.21.0-cp36-abi3-manylinux_2_17_x86_64.manylinux2014_x86_64.whl.metadata (3.4 kB)\n",
            "Downloading pycryptodome-3.21.0-cp36-abi3-manylinux_2_17_x86_64.manylinux2014_x86_64.whl (2.3 MB)\n",
            "\u001b[2K   \u001b[90m━━━━━━━━━━━━━━━━━━━━━━━━━━━━━━━━━━━━━━━━\u001b[0m \u001b[32m2.3/2.3 MB\u001b[0m \u001b[31m16.7 MB/s\u001b[0m eta \u001b[36m0:00:00\u001b[0m\n",
            "\u001b[?25hInstalling collected packages: pycryptodome\n",
            "Successfully installed pycryptodome-3.21.0\n"
          ]
        }
      ]
    },
    {
      "cell_type": "code",
      "source": [
        "\n",
        "def encrypt_data(data, key):\n",
        "    cipher = AES.new(key, AES.MODE_CBC)\n",
        "    encrypted_data = cipher.encrypt(pad(json.dumps(data).encode('utf-8'), AES.block_size))\n",
        "    return {\n",
        "        'iv': cipher.iv.hex(),\n",
        "        'encrypted_data': encrypted_data.hex()\n",
        "    }\n",
        "\n",
        "def decrypt_data(encrypted_data, key):\n",
        "    iv = bytes.fromhex(encrypted_data['iv'])\n",
        "    encrypted_data_bytes = bytes.fromhex(encrypted_data['encrypted_data'])\n",
        "    cipher = AES.new(key, AES.MODE_CBC, iv)\n",
        "    decrypted_data = unpad(cipher.decrypt(encrypted_data_bytes), AES.block_size)\n",
        "    return decrypted_data.decode('utf-8')\n",
        "\n"
      ],
      "metadata": {
        "id": "CxeGpeCj6Vmh"
      },
      "execution_count": 35,
      "outputs": []
    },
    {
      "cell_type": "code",
      "source": [
        "\n",
        "def read_data(file_path):\n",
        "    with open(file_path, 'r') as file:\n",
        "        data = json.load(file)\n",
        "    return data\n",
        "\n",
        "def write_data(file_path, data):\n",
        "    with open(file_path, 'w') as file:\n",
        "        json.dump(data, file)\n"
      ],
      "metadata": {
        "id": "tIfiILFy3w9Q"
      },
      "execution_count": 36,
      "outputs": []
    },
    {
      "cell_type": "code",
      "source": [
        "input_file = 'sensor_data.json'\n",
        "encrypted_file = 'encrypted_data.json'\n",
        "decrypted_file = 'decrypted_data.json'\n",
        "\n",
        "sensor_data = read_data(input_file)\n",
        "\n",
        "key = get_random_bytes(16)\n",
        "\n",
        "encrypted_data = encrypt_data(sensor_data, key)\n",
        "write_data(encrypted_file, encrypted_data)\n",
        "\n",
        "encrypted_json_data = read_data(encrypted_file)\n",
        "\n",
        "decrypted_data_str = decrypt_data(encrypted_json_data, key)\n",
        "decrypted_data = json.loads(decrypted_data_str)\n",
        "\n",
        "write_data(decrypted_file, decrypted_data)\n",
        "\n",
        "print(\"Original data:\", sensor_data)\n",
        "print(\"Encrypted data:\", encrypted_json_data)\n",
        "print(\"Decrypted data:\", decrypted_data)\n"
      ],
      "metadata": {
        "colab": {
          "base_uri": "https://localhost:8080/"
        },
        "id": "1P4-yfks3wxo",
        "outputId": "0bbf1f9f-c1dd-4b0f-a910-4bfb19e9d5d2"
      },
      "execution_count": 44,
      "outputs": [
        {
          "output_type": "stream",
          "name": "stdout",
          "text": [
            "Original data: [{'temperature': 26.9, 'humidity': 73.97, 'timestamp': '2024-10-02T17:22:20.881666'}, {'temperature': 27.75, 'humidity': 55.5, 'timestamp': '2024-10-02T17:22:20.882183'}, {'temperature': 21.93, 'humidity': 73.99, 'timestamp': '2024-10-02T17:22:20.882441'}, {'temperature': 28.29, 'humidity': 67.82, 'timestamp': '2024-10-02T17:22:20.884269'}, {'temperature': 29.67, 'humidity': 51.39, 'timestamp': '2024-10-02T17:22:20.884335'}, {'temperature': 22.5, 'humidity': 63.06, 'timestamp': '2024-10-02T17:22:20.884372'}, {'temperature': 27.17, 'humidity': 54.62, 'timestamp': '2024-10-02T17:22:20.884417'}, {'temperature': 25.42, 'humidity': 65.51, 'timestamp': '2024-10-02T17:22:20.884445'}, {'temperature': 26.59, 'humidity': 74.98, 'timestamp': '2024-10-02T17:22:20.884471'}, {'temperature': 21.47, 'humidity': 63.87, 'timestamp': '2024-10-02T17:22:20.884518'}]\n",
            "Encrypted data: {'iv': '3c1d89d51a76cf9bad90b79159f494a1', 'encrypted_data': '5fa398661cf2dfa330d141abd11a1a5f05c5f97fe174d5cd3a5fe7735f7133b871096071da8f623778781069b935aef5d1dc819e45bdd6f5268bcd07afd6a3036079189635144f3a188cd099c1b5a6f4be214f702abf58e835fb95a55928e69577acccb4de0eb816347c3fb3ad85ed09e824fea82b2eb8aca8bd4da433b0296adefbd248020de29f37e6efe95e8055ceef20d7806e3a064b99aa5c98c10cb63c7d92a5fb5ae25cd4e14bc93309f2364b6e8b1daf43932778ef2a0be5cbc2fb5e5ba1d021176971d10ca82d89529776c8a0a379a4b2f563a515476f44ede987660e25d5310841d66cf6d5e315dc9e8387edbfb8f6d27e0526d9283c798e57f31d6c9c23f46f520dc64bbaa4630ffb9d371a2f169ed7636a7d260a0fd9eb0554731b8bd82c661296e59d9112f9e4d2363565ca561b3bcfabeb171b3f62a56582ad9b8e8594aa73379c9f5a03a7ec6fd3bf4c010c0a51c71d235519e0e532a6097df705c5ce1d957b28aa42cb926622493d6bbd78ea39738e60fef78e7f97aa6d10cb136af7b598b9df8b6b132207aafccd04b3b7f5ee72c9a154814661916dcbaa56279665eddddd7b2f7f8e5278a7690fcfc90d891f305c7c119236e2c1ebb82eb0028a9c0d3b006c9150ba32124c30861bd7349564813307a40d24ce1794a4d44e91b5c8c3953792e0742a82c4bfd62cdbf31976aecdf09d523f5f22d6db5d2880647dc5b99dfe8dc0b005357f173dc6adac04812ecf12c80d5f42bffdafe767b8eced2b5e2bd2dc351196714f3164ece9daf6c17ec2d1ed2c6a0d6276dd376bc0c83828684f6adda995d8c729ac02b4bddabceaf1c161f1cbd72f1b0ab90a102b7842eadb3d04a1cf74ff6d596c00c05c2dd743fbd5738447ea5396ce475fcb2516da0105c954be6347a4d3644656de481444a867bcd481939df2ee92c0e85c5fa6ffa49acc920325cfb402e586396eaabd2b677c5b7821ab4bad2cd8bf6e5c48a6bddbfd468b1ff5eccca73dcbeda5345449256e09e4664dcc382ffe00d4ac69bc0dd8da22e44c477eb7d9d24d3d248da50ecb64dff686969d649087576f346f1ceef60f53d23fcd1d585884e8b00fcda6bc6938245cf3549b2cda03bdea4df3993cecff7499d7b67c6e7eb9e5ce3df5179bf4e565de3dd2bea3860f899d1db1b3d01ea957bf4b62194d67f9ab04303296f0c7b799ced45473552d02f7d9a8'}\n",
            "Decrypted data: [{'temperature': 26.9, 'humidity': 73.97, 'timestamp': '2024-10-02T17:22:20.881666'}, {'temperature': 27.75, 'humidity': 55.5, 'timestamp': '2024-10-02T17:22:20.882183'}, {'temperature': 21.93, 'humidity': 73.99, 'timestamp': '2024-10-02T17:22:20.882441'}, {'temperature': 28.29, 'humidity': 67.82, 'timestamp': '2024-10-02T17:22:20.884269'}, {'temperature': 29.67, 'humidity': 51.39, 'timestamp': '2024-10-02T17:22:20.884335'}, {'temperature': 22.5, 'humidity': 63.06, 'timestamp': '2024-10-02T17:22:20.884372'}, {'temperature': 27.17, 'humidity': 54.62, 'timestamp': '2024-10-02T17:22:20.884417'}, {'temperature': 25.42, 'humidity': 65.51, 'timestamp': '2024-10-02T17:22:20.884445'}, {'temperature': 26.59, 'humidity': 74.98, 'timestamp': '2024-10-02T17:22:20.884471'}, {'temperature': 21.47, 'humidity': 63.87, 'timestamp': '2024-10-02T17:22:20.884518'}]\n"
          ]
        }
      ]
    },
    {
      "cell_type": "code",
      "source": [
        "import datetime\n",
        "import json\n",
        "import random\n",
        "import time\n",
        "\n"
      ],
      "metadata": {
        "id": "RhnOwMWFlBEi"
      },
      "execution_count": 39,
      "outputs": []
    },
    {
      "cell_type": "code",
      "source": [
        "def collect_data():\n",
        "    temperature = round(random.uniform(20.0, 30.0), 2)\n",
        "    humidity = round(random.uniform(40.0, 80.0), 2)\n",
        "    timestamp = datetime.datetime.now().isoformat()\n",
        "    data_point = {\n",
        "        \"temperature\": temperature,\n",
        "        \"humidity\": humidity,\n",
        "        \"timestamp\": timestamp\n",
        "    }\n",
        "    return data_point"
      ],
      "metadata": {
        "id": "XSicrxGxlC3x"
      },
      "execution_count": 40,
      "outputs": []
    },
    {
      "cell_type": "code",
      "source": [
        "data = []\n",
        "num_samples = 10\n",
        "interval = 0\n",
        "for _ in range (num_samples):\n",
        "  sample = collect_data()\n",
        "  data.append(sample)\n",
        "  print(sample)\n",
        "  time.sleep(interval)\n",
        "\n",
        "\n",
        "with open('sensor_data.json', 'w') as file:\n",
        " json.dump(data, file , indent =4)"
      ],
      "metadata": {
        "colab": {
          "base_uri": "https://localhost:8080/"
        },
        "id": "H0qBBfSQm5_m",
        "outputId": "75617688-77d0-4ce8-9b7a-5d71bf0d71fa"
      },
      "execution_count": 41,
      "outputs": [
        {
          "output_type": "stream",
          "name": "stdout",
          "text": [
            "{'temperature': 26.9, 'humidity': 73.97, 'timestamp': '2024-10-02T17:22:20.881666'}\n",
            "{'temperature': 27.75, 'humidity': 55.5, 'timestamp': '2024-10-02T17:22:20.882183'}\n",
            "{'temperature': 21.93, 'humidity': 73.99, 'timestamp': '2024-10-02T17:22:20.882441'}\n",
            "{'temperature': 28.29, 'humidity': 67.82, 'timestamp': '2024-10-02T17:22:20.884269'}\n",
            "{'temperature': 29.67, 'humidity': 51.39, 'timestamp': '2024-10-02T17:22:20.884335'}\n",
            "{'temperature': 22.5, 'humidity': 63.06, 'timestamp': '2024-10-02T17:22:20.884372'}\n",
            "{'temperature': 27.17, 'humidity': 54.62, 'timestamp': '2024-10-02T17:22:20.884417'}\n",
            "{'temperature': 25.42, 'humidity': 65.51, 'timestamp': '2024-10-02T17:22:20.884445'}\n",
            "{'temperature': 26.59, 'humidity': 74.98, 'timestamp': '2024-10-02T17:22:20.884471'}\n",
            "{'temperature': 21.47, 'humidity': 63.87, 'timestamp': '2024-10-02T17:22:20.884518'}\n"
          ]
        }
      ]
    },
    {
      "cell_type": "code",
      "source": [
        "def SieveOfEratosthenes(n):\n",
        "\n",
        "\n",
        "    prime = [True for i in range(n+1)]\n",
        "    p = 2\n",
        "    while (p * p <= n):\n",
        "\n",
        "\n",
        "        if (prime[p] == True):\n",
        "\n",
        "\n",
        "            for i in range(p * p, n+1, p):\n",
        "                prime[i] = False\n",
        "        p += 1\n",
        "\n",
        "\n",
        "    for p in range(2, n+1):\n",
        "        if prime[p]:\n",
        "            print(p)\n",
        "\n",
        "\n",
        "\n",
        "n = 30\n",
        "SieveOfEratosthenes(n)"
      ],
      "metadata": {
        "colab": {
          "base_uri": "https://localhost:8080/"
        },
        "id": "12k3bqHqw_sh",
        "outputId": "8ae6e0c5-3c8d-47f1-ca38-fd00574e13ae"
      },
      "execution_count": 20,
      "outputs": [
        {
          "output_type": "stream",
          "name": "stdout",
          "text": [
            "2\n",
            "3\n",
            "5\n",
            "7\n",
            "11\n",
            "13\n",
            "17\n",
            "19\n",
            "23\n",
            "29\n"
          ]
        }
      ]
    },
    {
      "cell_type": "code",
      "source": [
        "import random\n",
        "\n",
        "def gcd(a, b):\n",
        "    if b == 0:\n",
        "        return a\n",
        "    return gcd(b, a % b)\n",
        "\n",
        "def generate_keypair(p, q):\n",
        "    n = p * q\n",
        "    phi = (p - 1) * (q - 1)\n",
        "\n",
        "    # Choose an integer e such that e and phi(n) are coprime\n",
        "    e = random.randrange(1, phi)\n",
        "    g = gcd(e, phi)\n",
        "    while g != 1:\n",
        "        e = random.randrange(1, phi)\n",
        "        g = gcd(e, phi)\n",
        "\n",
        "    # Use the extended Euclidean algorithm to generate the private key\n",
        "    d = pow(e, -1, phi)\n",
        "    return ((e, n), (d, n))\n",
        "\n",
        "def encrypt(pk, plaintext):\n",
        "    key, n = pk\n",
        "    cipher = [(ord(char) ** key) % n for char in plaintext]\n",
        "    return cipher\n",
        "\n",
        "def decrypt(pk, ciphertext):\n",
        "    key, n = pk\n",
        "    plain = [chr((char ** key) % n) for char in ciphertext]\n",
        "    return ''.join(plain)\n",
        "\n",
        "if __name__ == '__main__':\n",
        "    p = 61\n",
        "    q = 53\n",
        "    public, private = generate_keypair(p, q)\n",
        "    print(\"Public key:\", public)\n",
        "    print(\"Private key:\", private)\n",
        "\n",
        "    message = \"Hello THERE!\"\n",
        "    encrypted_msg = encrypt(public, message)\n",
        "    print(\"Encrypted message:\", ''.join(map(lambda x: str(x), encrypted_msg)))\n",
        "\n",
        "    decrypted_msg = decrypt(private, encrypted_msg)\n",
        "    print(\"Decrypted message:\", decrypted_msg)\n"
      ],
      "metadata": {
        "colab": {
          "base_uri": "https://localhost:8080/"
        },
        "id": "lqkpES6GrQAg",
        "outputId": "cd96a2b5-a05e-418a-e92c-7d5bf9afcb7b"
      },
      "execution_count": 26,
      "outputs": [
        {
          "output_type": "stream",
          "name": "stdout",
          "text": [
            "Public key: (2423, 3233)\n",
            "Private key: (1607, 3233)\n",
            "Encrypted message: 5381005747419638757605382452024496\n",
            "Decrypted message: Hello THERE!\n",
            "Hello THERE!\n"
          ]
        }
      ]
    },
    {
      "cell_type": "code",
      "source": [
        "import hashlib\n",
        "import random\n",
        "\n",
        "def generate_keypair(curve):\n",
        "    \"\"\"Generates a public-private key pair for the given elliptic curve.\"\"\"\n",
        "    private_key = random.randint(1, curve.n - 1)\n",
        "    public_key = curve.multiply(curve.g, private_key)\n",
        "    return private_key, public_key\n",
        "\n",
        "def encrypt(message, public_key, curve):\n",
        "    \"\"\"Encrypts a message using the recipient's public key.\"\"\"\n",
        "    r = random.randint(1, curve.n - 1)\n",
        "    R = curve.multiply(curve.g, r)\n",
        "    shared_secret = curve.multiply(public_key, r)\n",
        "\n",
        "    # Generate a symmetric key from the shared secret\n",
        "    key = hashlib.sha256(str(shared_secret.x).encode()).digest()[:16]\n",
        "\n",
        "    # XOR the message with the symmetric key\n",
        "    ciphertext = bytes([a ^ b for a, b in zip(message.encode(), key)])\n",
        "    return R, ciphertext\n",
        "\n",
        "def decrypt(ciphertext, private_key, R, curve):\n",
        "    \"\"\"Decrypts a message using the recipient's private key.\"\"\"\n",
        "    shared_secret = curve.multiply(R, private_key)\n",
        "\n",
        "    # Generate the same symmetric key\n",
        "    key = hashlib.sha256(str(shared_secret.x).encode()).digest()[:16]\n",
        "\n",
        "    # XOR the ciphertext with the symmetric key to retrieve the plaintext\n",
        "    plaintext = bytes([a ^ b for a, b in zip(ciphertext, key)])\n",
        "    return plaintext.decode()\n",
        "\n",
        "class Point:\n",
        "    def __init__(self, x, y):\n",
        "        self.x = x\n",
        "        self.y = y\n",
        "\n",
        "class Curve:\n",
        "    def __init__(self, a, b, p, g, n):\n",
        "        self.a = a\n",
        "        self.b = b\n",
        "        self.p = p\n",
        "        self.g = g\n",
        "        self.n = n\n",
        "\n",
        "    def add(self, p1, p2):\n",
        "        if p1 is None:\n",
        "            return p2\n",
        "        if p2 is None:\n",
        "            return p1\n",
        "        if p1.x == p2.x and p1.y == -p2.y % self.p:\n",
        "            return None  # Point at infinity\n",
        "        if p1.x == p2.x:\n",
        "            m = (3 * p1.x * p1.x + self.a) * pow(2 * p1.y, -1, self.p) % self.p\n",
        "        else:\n",
        "            m = (p2.y - p1.y) * pow(p2.x - p1.x, -1, self.p) % self.p\n",
        "        x = (m * m - p1.x - p2.x) % self.p\n",
        "        y = (m * (p1.x - x) - p1.y) % self.p\n",
        "        return Point(x, y)\n",
        "\n",
        "    def multiply(self, p, k):\n",
        "        result = None\n",
        "        temp_p = p\n",
        "        while k > 0:\n",
        "            if k % 2 == 1:\n",
        "                result = self.add(result, temp_p)\n",
        "            temp_p = self.add(temp_p, temp_p)\n",
        "            k //= 2\n",
        "        return result\n",
        "\n",
        "# Example usage:\n",
        "curve = Curve(a=0, b=7, p=17, g=Point(5, 1), n=19)\n",
        "private_key, public_key = generate_keypair(curve)\n",
        "\n",
        "message = \"HELLO THERE!\"\n",
        "R, ciphertext = encrypt(message, public_key, curve)\n",
        "plaintext = decrypt(ciphertext, private_key, R, curve)\n",
        "\n",
        "print(\"Original message:\", message)\n",
        "print(\"Ciphertext:\", ciphertext)\n",
        "print(\"Decrypted message:\", plaintext)\n"
      ],
      "metadata": {
        "colab": {
          "base_uri": "https://localhost:8080/"
        },
        "id": "Tn7dDEI8tpSX",
        "outputId": "6e65107c-0cec-4682-9b58-40877073d0b2"
      },
      "execution_count": 27,
      "outputs": [
        {
          "output_type": "stream",
          "name": "stdout",
          "text": [
            "Original message: HELLO THERE!\n",
            "Ciphertext: b'\\xael\\xb6)\\xd7\\xf7f>\\xca.7J'\n",
            "Decrypted message: HELLO THERE!\n"
          ]
        }
      ]
    },
    {
      "cell_type": "code",
      "source": [
        "import hashlib\n",
        "import time\n",
        "\n",
        "class Block:\n",
        "    def __init__(self, index, previous_hash, timestamp, data, hash):\n",
        "        self.index = index\n",
        "        self.previous_hash = previous_hash\n",
        "        self.timestamp = timestamp\n",
        "        self.data = data\n",
        "        self.hash = hash\n",
        "\n",
        "def calculate_hash(index, previous_hash, timestamp, data):\n",
        "    value = f\"{index}{previous_hash}{timestamp}{data}\"\n",
        "    return hashlib.sha256(value.encode('utf-8')).hexdigest()\n",
        "\n",
        "def create_genesis_block():\n",
        "    timestamp = int(time.time())\n",
        "    return Block(0, \"0\", timestamp, \"Genesis Block\", calculate_hash(0, \"0\", timestamp, \"Genesis Block\"))\n",
        "\n",
        "def display_blockchain(blockchain):\n",
        "    for block in blockchain:\n",
        "        print(f\"Index: {block.index}\")\n",
        "        print(f\"Previous Hash: {block.previous_hash}\")\n",
        "        print(f\"Timestamp: {block.timestamp}\")\n",
        "        print(f\"Data: {block.data}\")\n",
        "        print(f\"Hash: {block.hash}\")\n",
        "        print(\"----------------------------------------------------------------------\")\n",
        "\n",
        "def create_new_block(previous_block, data):\n",
        "    index = previous_block.index + 1\n",
        "    timestamp = int(time.time())\n",
        "    hash = calculate_hash(index, previous_block.hash, timestamp, data)\n",
        "    return Block(index, previous_block.hash, timestamp, data, hash)\n",
        "\n",
        "def validate_chain(blockchain):\n",
        "    for i in range(1, len(blockchain)):\n",
        "        current_block = blockchain[i]\n",
        "        previous_block = blockchain[i - 1]\n",
        "        if current_block.hash != calculate_hash(current_block.index, current_block.previous_hash, current_block.timestamp, current_block.data):\n",
        "            return False\n",
        "        if current_block.previous_hash != previous_block.hash:\n",
        "            return False\n",
        "    return True\n",
        "\n",
        "# Create the blockchain and add the genesis block\n",
        "blockchain = [create_genesis_block()]\n",
        "print(\"Genesis Block Created\")\n",
        "display_blockchain(blockchain)\n",
        "\n",
        "# Add new blocks\n",
        "for i in range(1, 11):\n",
        "    blockchain.append(create_new_block(blockchain[-1], f\"Block-{i} Data\"))\n",
        "\n",
        "print(\"Blocks added successfully\")\n",
        "display_blockchain(blockchain)\n",
        "\n",
        "# Validate the blockchain\n",
        "if validate_chain(blockchain):\n",
        "    print(\"It is a valid Blockchain\")\n",
        "else:\n",
        "    print(\"It is an invalid Blockchain\")\n"
      ],
      "metadata": {
        "colab": {
          "base_uri": "https://localhost:8080/"
        },
        "id": "J7R9LVz1vCku",
        "outputId": "37f54876-9242-403a-f4c8-fe38dd25e4ac"
      },
      "execution_count": 28,
      "outputs": [
        {
          "output_type": "stream",
          "name": "stdout",
          "text": [
            "Genesis Block Created\n",
            "Index: 0\n",
            "Previous Hash: 0\n",
            "Timestamp: 1727881033\n",
            "Data: Genesis Block\n",
            "Hash: 884b751a45da1b5ebec6e1fa132914f5f70d9eb4776a5c4c981f3576feeb3494\n",
            "----------------------------------------------------------------------\n",
            "Blocks added successfully\n",
            "Index: 0\n",
            "Previous Hash: 0\n",
            "Timestamp: 1727881033\n",
            "Data: Genesis Block\n",
            "Hash: 884b751a45da1b5ebec6e1fa132914f5f70d9eb4776a5c4c981f3576feeb3494\n",
            "----------------------------------------------------------------------\n",
            "Index: 1\n",
            "Previous Hash: 884b751a45da1b5ebec6e1fa132914f5f70d9eb4776a5c4c981f3576feeb3494\n",
            "Timestamp: 1727881033\n",
            "Data: Block-1 Data\n",
            "Hash: ecfd51f7b84c22d6d5fbb9e218954995d88e9e0ecf5955b0d381336544660f8e\n",
            "----------------------------------------------------------------------\n",
            "Index: 2\n",
            "Previous Hash: ecfd51f7b84c22d6d5fbb9e218954995d88e9e0ecf5955b0d381336544660f8e\n",
            "Timestamp: 1727881033\n",
            "Data: Block-2 Data\n",
            "Hash: 6872665b22acc67dd344c3962542e81860dc0b27fc5355124ecc9e10b1582eda\n",
            "----------------------------------------------------------------------\n",
            "Index: 3\n",
            "Previous Hash: 6872665b22acc67dd344c3962542e81860dc0b27fc5355124ecc9e10b1582eda\n",
            "Timestamp: 1727881033\n",
            "Data: Block-3 Data\n",
            "Hash: c77028b302525eb1484a7d1a16239498b20674cd8fb052c0024cc4958347bd5d\n",
            "----------------------------------------------------------------------\n",
            "Index: 4\n",
            "Previous Hash: c77028b302525eb1484a7d1a16239498b20674cd8fb052c0024cc4958347bd5d\n",
            "Timestamp: 1727881033\n",
            "Data: Block-4 Data\n",
            "Hash: c509e789c10493d2aed8545a82572a514ff8c6681851c92b3f1085c3e20aca25\n",
            "----------------------------------------------------------------------\n",
            "Index: 5\n",
            "Previous Hash: c509e789c10493d2aed8545a82572a514ff8c6681851c92b3f1085c3e20aca25\n",
            "Timestamp: 1727881033\n",
            "Data: Block-5 Data\n",
            "Hash: 53c1cd7af7fbf271d4eade61382cad7dab8c567de801bfb7a3f04d58ca1a3acf\n",
            "----------------------------------------------------------------------\n",
            "Index: 6\n",
            "Previous Hash: 53c1cd7af7fbf271d4eade61382cad7dab8c567de801bfb7a3f04d58ca1a3acf\n",
            "Timestamp: 1727881033\n",
            "Data: Block-6 Data\n",
            "Hash: 66b514a9a402de7cc2dc5a476dcc96df6cdb5e5792a6e4f2b7e668eb6144394e\n",
            "----------------------------------------------------------------------\n",
            "Index: 7\n",
            "Previous Hash: 66b514a9a402de7cc2dc5a476dcc96df6cdb5e5792a6e4f2b7e668eb6144394e\n",
            "Timestamp: 1727881033\n",
            "Data: Block-7 Data\n",
            "Hash: 09007243b43788aeb723da4abc2a5b422ba4e7a7e7fe50e9e36e156c249636cf\n",
            "----------------------------------------------------------------------\n",
            "Index: 8\n",
            "Previous Hash: 09007243b43788aeb723da4abc2a5b422ba4e7a7e7fe50e9e36e156c249636cf\n",
            "Timestamp: 1727881033\n",
            "Data: Block-8 Data\n",
            "Hash: fb3d0a3a5b890519d0d4f0d5c45d87ee94ae4ebd5a2636ba075bdaf900c42c3a\n",
            "----------------------------------------------------------------------\n",
            "Index: 9\n",
            "Previous Hash: fb3d0a3a5b890519d0d4f0d5c45d87ee94ae4ebd5a2636ba075bdaf900c42c3a\n",
            "Timestamp: 1727881033\n",
            "Data: Block-9 Data\n",
            "Hash: d89c506edbf329b10ad8d13dcf705721c57089d732ae5fb270e94627c35a4fce\n",
            "----------------------------------------------------------------------\n",
            "Index: 10\n",
            "Previous Hash: d89c506edbf329b10ad8d13dcf705721c57089d732ae5fb270e94627c35a4fce\n",
            "Timestamp: 1727881033\n",
            "Data: Block-10 Data\n",
            "Hash: 27f92bda864b393a6425b91bc7cbcd089e7784384e1b3a792ca76effe542deb7\n",
            "----------------------------------------------------------------------\n",
            "It is a valid Blockchain\n"
          ]
        }
      ]
    },
    {
      "cell_type": "code",
      "source": [
        "import hashlib\n",
        "\n",
        "def create_hash_pair(hash1, hash2):\n",
        "    \"\"\"Creates a hash from two hashes by concatenating and hashing them.\"\"\"\n",
        "    combined = hash1 + hash2\n",
        "    return hashlib.sha256(combined.encode('utf-8')).hexdigest()\n",
        "\n",
        "def create_merkle_tree(blockchain):\n",
        "    \"\"\"Creates a Merkle tree from the given blockchain and returns the Merkle root.\"\"\"\n",
        "    if len(blockchain) == 0:\n",
        "        return None\n",
        "\n",
        "    curr_level = [block.hash for block in blockchain]\n",
        "    print(f\"Current Level: {curr_level}\")\n",
        "\n",
        "    while len(curr_level) > 1:\n",
        "        next_level = []\n",
        "\n",
        "        # If odd number of hashes, duplicate the last hash\n",
        "        if len(curr_level) % 2 != 0:\n",
        "            curr_level.append(curr_level[-1])\n",
        "\n",
        "        for i in range(0, len(curr_level), 2):\n",
        "            next_level.append(create_hash_pair(curr_level[i], curr_level[i + 1]))\n",
        "\n",
        "        curr_level = next_level\n",
        "\n",
        "    return curr_level[0]\n",
        "\n",
        "def verify_merkle_root(hash_value, blockchain, merkle_root) -> bool:\n",
        "    \"\"\"Verifies if the given hash value corresponds to the Merkle root in the blockchain.\"\"\"\n",
        "    if len(blockchain) == 0:\n",
        "        return False\n",
        "\n",
        "    # Find the block corresponding to the given hash value\n",
        "    for block in blockchain:\n",
        "        if hash_value == block.hash:\n",
        "            # If found, recreate the Merkle tree and compare\n",
        "            return create_merkle_tree(blockchain) == merkle_root\n",
        "\n",
        "    return False\n",
        "\n",
        "# Assuming you have a blockchain list already defined\n",
        "merkle_root = create_merkle_tree(blockchain)\n",
        "print(f\"Merkle Root is: {merkle_root}\")\n",
        "\n",
        "# Verify a valid hash\n",
        "ans = verify_merkle_root(blockchain[5].hash, blockchain, merkle_root)\n",
        "print(f\"Is Valid? {ans}\")\n",
        "\n",
        "# Verify an invalid hash\n",
        "ans = verify_merkle_root(\"invalid_hash\", blockchain, merkle_root)\n",
        "print(f\"Is Valid? {ans}\")\n"
      ],
      "metadata": {
        "colab": {
          "base_uri": "https://localhost:8080/"
        },
        "id": "pBukmah4vnwF",
        "outputId": "d927548f-855a-49ab-c310-f40f5751b0cf"
      },
      "execution_count": 30,
      "outputs": [
        {
          "output_type": "stream",
          "name": "stdout",
          "text": [
            "Current Level: ['884b751a45da1b5ebec6e1fa132914f5f70d9eb4776a5c4c981f3576feeb3494', 'ecfd51f7b84c22d6d5fbb9e218954995d88e9e0ecf5955b0d381336544660f8e', '6872665b22acc67dd344c3962542e81860dc0b27fc5355124ecc9e10b1582eda', 'c77028b302525eb1484a7d1a16239498b20674cd8fb052c0024cc4958347bd5d', 'c509e789c10493d2aed8545a82572a514ff8c6681851c92b3f1085c3e20aca25', '53c1cd7af7fbf271d4eade61382cad7dab8c567de801bfb7a3f04d58ca1a3acf', '66b514a9a402de7cc2dc5a476dcc96df6cdb5e5792a6e4f2b7e668eb6144394e', '09007243b43788aeb723da4abc2a5b422ba4e7a7e7fe50e9e36e156c249636cf', 'fb3d0a3a5b890519d0d4f0d5c45d87ee94ae4ebd5a2636ba075bdaf900c42c3a', 'd89c506edbf329b10ad8d13dcf705721c57089d732ae5fb270e94627c35a4fce', '27f92bda864b393a6425b91bc7cbcd089e7784384e1b3a792ca76effe542deb7']\n",
            "Merkle Root is: 226ad380d1e17c3dc87f70b2ffd1c0b630aa4b195d96b690e031ee5debeaee96\n",
            "Current Level: ['884b751a45da1b5ebec6e1fa132914f5f70d9eb4776a5c4c981f3576feeb3494', 'ecfd51f7b84c22d6d5fbb9e218954995d88e9e0ecf5955b0d381336544660f8e', '6872665b22acc67dd344c3962542e81860dc0b27fc5355124ecc9e10b1582eda', 'c77028b302525eb1484a7d1a16239498b20674cd8fb052c0024cc4958347bd5d', 'c509e789c10493d2aed8545a82572a514ff8c6681851c92b3f1085c3e20aca25', '53c1cd7af7fbf271d4eade61382cad7dab8c567de801bfb7a3f04d58ca1a3acf', '66b514a9a402de7cc2dc5a476dcc96df6cdb5e5792a6e4f2b7e668eb6144394e', '09007243b43788aeb723da4abc2a5b422ba4e7a7e7fe50e9e36e156c249636cf', 'fb3d0a3a5b890519d0d4f0d5c45d87ee94ae4ebd5a2636ba075bdaf900c42c3a', 'd89c506edbf329b10ad8d13dcf705721c57089d732ae5fb270e94627c35a4fce', '27f92bda864b393a6425b91bc7cbcd089e7784384e1b3a792ca76effe542deb7']\n",
            "Is Valid? True\n",
            "Is Valid? False\n"
          ]
        }
      ]
    },
    {
      "cell_type": "code",
      "source": [
        "!pip install tinyec"
      ],
      "metadata": {
        "colab": {
          "base_uri": "https://localhost:8080/"
        },
        "id": "b58EBf1N9bUj",
        "outputId": "207da084-2c86-468a-9e71-2fa6a0b74898"
      },
      "execution_count": 33,
      "outputs": [
        {
          "output_type": "stream",
          "name": "stdout",
          "text": [
            "Collecting tinyec\n",
            "  Downloading tinyec-0.4.0.tar.gz (24 kB)\n",
            "  Preparing metadata (setup.py) ... \u001b[?25l\u001b[?25hdone\n",
            "Building wheels for collected packages: tinyec\n",
            "  Building wheel for tinyec (setup.py) ... \u001b[?25l\u001b[?25hdone\n",
            "  Created wheel for tinyec: filename=tinyec-0.4.0-py3-none-any.whl size=20878 sha256=fcf816bb42c511f13c12457f5a3d3c7eb4a5a68d9ed8ad775af1510fa5ff2b8f\n",
            "  Stored in directory: /root/.cache/pip/wheels/02/37/a5/aa011cfa66451de6aa2dbccaa3e7862e8290f0946653753265\n",
            "Successfully built tinyec\n",
            "Installing collected packages: tinyec\n",
            "Successfully installed tinyec-0.4.0\n"
          ]
        }
      ]
    },
    {
      "cell_type": "code",
      "source": [
        "import tinyec.registry as registry\n",
        "import secrets\n",
        "\n",
        "# Get the elliptic curve\n",
        "curve = registry.get_curve('brainpoolP256r1')\n",
        "\n",
        "# Generate private and public keys\n",
        "privkey = secrets.randbelow(curve.field.n)\n",
        "pubkey = privkey * curve.g\n",
        "\n",
        "print(f\"Private Key: {privkey}\")\n",
        "print(f\"Public Key: ({pubkey.x}, {pubkey.y})\")\n",
        "\n",
        "def encrypt(msg, pubkey):\n",
        "    \"\"\"Encrypt a message using the recipient's public key.\"\"\"\n",
        "    M = int.from_bytes(msg.encode(), 'big')  # Convert message to integer\n",
        "    k = secrets.randbelow(curve.field.n)  # Random integer\n",
        "    R = k * curve.g  # Compute the point R = kG\n",
        "    C = (M + (pubkey * k).x) % curve.field.n  # Ciphertext\n",
        "    return R, C\n",
        "\n",
        "def decrypt(encrypt, privkey):\n",
        "    \"\"\"Decrypt a message using the recipient's private key.\"\"\"\n",
        "    R, C = encrypt  # Unpack the encrypted message\n",
        "    z = (C - (R * privkey).x) % curve.field.n  # Decrypt\n",
        "    return z.to_bytes((z.bit_length() + 7) // 8, 'big').decode()  # Convert back to string\n",
        "\n",
        "# Example message to encrypt\n",
        "msg = \"hello bhai\"\n",
        "\n",
        "# Encrypt the message\n",
        "e = encrypt(msg, pubkey)\n",
        "print(f\"Encrypted: {e}\\n\")\n",
        "\n",
        "# Decrypt the message\n",
        "d = decrypt(e, privkey)\n",
        "print(f\"Decrypted: {d}\\n\")\n"
      ],
      "metadata": {
        "colab": {
          "base_uri": "https://localhost:8080/"
        },
        "id": "zvswrWZ58-sk",
        "outputId": "1414dd17-873a-41dd-afb5-7e6fa79673f3"
      },
      "execution_count": 48,
      "outputs": [
        {
          "output_type": "stream",
          "name": "stdout",
          "text": [
            "Private Key: 68212143718426174352796644224110845179836254049142542716982720429356740079589\n",
            "Public Key: (33223940033020268821331041697899668856218744382920511060698824695960930276214, 44275157459652668776105756468384551236494225756832051590791813688664367628905)\n",
            "Encrypted: ((74568787216045321513327659593311357618192593206897572522048273672784934563047, 39725004605316719782816371657100841939902060783931308816058040425162635003135) on \"brainpoolP256r1\" => y^2 = x^3 + 56698187605326110043627228396178346077120614539475214109386828188763884139993x + 17577232497321838841075697789794520262950426058923084567046852300633325438902 (mod 76884956397045344220809746629001649093037950200943055203735601445031516197751), 41149951019447111041802448368391406761775078540272770962741672623905878130760)\n",
            "\n",
            "Decrypted: hello bhai\n",
            "\n"
          ]
        }
      ]
    },
    {
      "cell_type": "code",
      "source": [
        "\n"
      ],
      "metadata": {
        "colab": {
          "base_uri": "https://localhost:8080/"
        },
        "id": "BNJTR8ANczyR",
        "outputId": "e5441e41-7d30-4001-9376-e1687d8535fb"
      },
      "execution_count": 49,
      "outputs": [
        {
          "output_type": "stream",
          "name": "stdout",
          "text": [
            "74546112375848904823226395683728591022292216465614860300774719003786807438787\n",
            "(58342903892894554840084332138457675949264178680246691158634333391518814569371,42170518276612112944769599949023293044087580281053557980147397249332073021895)\n",
            "((2920184212205557881352843417704107595319473894765914258962731024244184399378, 29227963322915985716900514357947869149934256536228184709907968167773676477276) on \"BrainPoolP256r1\" => y^2 = x^3 + 56698187605326110043627228396178346077120614539475214109386828188763884139993x + 17577232497321838841075697789794520262950426058923084567046852300633325438902 (mod 76884956397045344220809746629001649093037950200943055203735601445031516197751), 59456244811973831059589517927970890532599013273647278535680158428901248156281)\n",
            "hello\n"
          ]
        }
      ]
    }
  ]
}