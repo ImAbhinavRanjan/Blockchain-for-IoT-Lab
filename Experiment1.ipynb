{
  "nbformat": 4,
  "nbformat_minor": 0,
  "metadata": {
    "colab": {
      "provenance": [],
      "authorship_tag": "ABX9TyP2KxFvvLYkobtNJC09sUh+",
      "include_colab_link": true
    },
    "kernelspec": {
      "name": "python3",
      "display_name": "Python 3"
    },
    "language_info": {
      "name": "python"
    }
  },
  "cells": [
    {
      "cell_type": "markdown",
      "metadata": {
        "id": "view-in-github",
        "colab_type": "text"
      },
      "source": [
        "<a href=\"https://colab.research.google.com/github/ImAbhinavRanjan/Blockchain-for-IoT-Lab/blob/main/Experiment1.ipynb\" target=\"_parent\"><img src=\"https://colab.research.google.com/assets/colab-badge.svg\" alt=\"Open In Colab\"/></a>"
      ]
    },
    {
      "cell_type": "code",
      "execution_count": 1,
      "metadata": {
        "id": "HWBpang6wZvt"
      },
      "outputs": [],
      "source": [
        "import json\n",
        "import random\n",
        "import time\n",
        "import datetime"
      ]
    },
    {
      "cell_type": "code",
      "source": [
        "data = []\n",
        "\n",
        "def data_gen():\n",
        "    data.append({\n",
        "        'timestamp': datetime.datetime.now().isoformat(),\n",
        "        'temperature': random.uniform(20, 30),\n",
        "        'humidity': random.uniform(30, 40)\n",
        "    })\n",
        "    return data\n",
        "\n",
        "interval = 2\n",
        "\n",
        "for i in range(10):\n",
        "    with open('data.json', 'w') as file:\n",
        "        ruth = data_gen()\n",
        "        json.dump(ruth, file, indent=4)\n",
        "        print(ruth)\n",
        "    time.sleep(interval)"
      ],
      "metadata": {
        "colab": {
          "base_uri": "https://localhost:8080/"
        },
        "id": "dMwiZD8ReuVg",
        "outputId": "9ba7adf0-e427-4fdc-ad8a-906e00444b38"
      },
      "execution_count": 25,
      "outputs": [
        {
          "output_type": "stream",
          "name": "stdout",
          "text": [
            "[{'timestamp': '2024-08-02T14:30:46.915526', 'temperature': 26.05251439898408, 'humidity': 36.41802903264367}]\n",
            "[{'timestamp': '2024-08-02T14:30:46.915526', 'temperature': 26.05251439898408, 'humidity': 36.41802903264367}, {'timestamp': '2024-08-02T14:30:48.919536', 'temperature': 20.600090492251343, 'humidity': 35.84133792570793}]\n",
            "[{'timestamp': '2024-08-02T14:30:46.915526', 'temperature': 26.05251439898408, 'humidity': 36.41802903264367}, {'timestamp': '2024-08-02T14:30:48.919536', 'temperature': 20.600090492251343, 'humidity': 35.84133792570793}, {'timestamp': '2024-08-02T14:30:50.923026', 'temperature': 22.373319238963134, 'humidity': 36.62794069756069}]\n",
            "[{'timestamp': '2024-08-02T14:30:46.915526', 'temperature': 26.05251439898408, 'humidity': 36.41802903264367}, {'timestamp': '2024-08-02T14:30:48.919536', 'temperature': 20.600090492251343, 'humidity': 35.84133792570793}, {'timestamp': '2024-08-02T14:30:50.923026', 'temperature': 22.373319238963134, 'humidity': 36.62794069756069}, {'timestamp': '2024-08-02T14:30:52.925564', 'temperature': 20.780637418886943, 'humidity': 39.55469256766396}]\n",
            "[{'timestamp': '2024-08-02T14:30:46.915526', 'temperature': 26.05251439898408, 'humidity': 36.41802903264367}, {'timestamp': '2024-08-02T14:30:48.919536', 'temperature': 20.600090492251343, 'humidity': 35.84133792570793}, {'timestamp': '2024-08-02T14:30:50.923026', 'temperature': 22.373319238963134, 'humidity': 36.62794069756069}, {'timestamp': '2024-08-02T14:30:52.925564', 'temperature': 20.780637418886943, 'humidity': 39.55469256766396}, {'timestamp': '2024-08-02T14:30:54.929426', 'temperature': 29.670709987206195, 'humidity': 30.486370046229}]\n",
            "[{'timestamp': '2024-08-02T14:30:46.915526', 'temperature': 26.05251439898408, 'humidity': 36.41802903264367}, {'timestamp': '2024-08-02T14:30:48.919536', 'temperature': 20.600090492251343, 'humidity': 35.84133792570793}, {'timestamp': '2024-08-02T14:30:50.923026', 'temperature': 22.373319238963134, 'humidity': 36.62794069756069}, {'timestamp': '2024-08-02T14:30:52.925564', 'temperature': 20.780637418886943, 'humidity': 39.55469256766396}, {'timestamp': '2024-08-02T14:30:54.929426', 'temperature': 29.670709987206195, 'humidity': 30.486370046229}, {'timestamp': '2024-08-02T14:30:56.933226', 'temperature': 22.019034601350054, 'humidity': 34.025001426407705}]\n",
            "[{'timestamp': '2024-08-02T14:30:46.915526', 'temperature': 26.05251439898408, 'humidity': 36.41802903264367}, {'timestamp': '2024-08-02T14:30:48.919536', 'temperature': 20.600090492251343, 'humidity': 35.84133792570793}, {'timestamp': '2024-08-02T14:30:50.923026', 'temperature': 22.373319238963134, 'humidity': 36.62794069756069}, {'timestamp': '2024-08-02T14:30:52.925564', 'temperature': 20.780637418886943, 'humidity': 39.55469256766396}, {'timestamp': '2024-08-02T14:30:54.929426', 'temperature': 29.670709987206195, 'humidity': 30.486370046229}, {'timestamp': '2024-08-02T14:30:56.933226', 'temperature': 22.019034601350054, 'humidity': 34.025001426407705}, {'timestamp': '2024-08-02T14:30:58.936818', 'temperature': 29.995117053916754, 'humidity': 36.115627747591724}]\n",
            "[{'timestamp': '2024-08-02T14:30:46.915526', 'temperature': 26.05251439898408, 'humidity': 36.41802903264367}, {'timestamp': '2024-08-02T14:30:48.919536', 'temperature': 20.600090492251343, 'humidity': 35.84133792570793}, {'timestamp': '2024-08-02T14:30:50.923026', 'temperature': 22.373319238963134, 'humidity': 36.62794069756069}, {'timestamp': '2024-08-02T14:30:52.925564', 'temperature': 20.780637418886943, 'humidity': 39.55469256766396}, {'timestamp': '2024-08-02T14:30:54.929426', 'temperature': 29.670709987206195, 'humidity': 30.486370046229}, {'timestamp': '2024-08-02T14:30:56.933226', 'temperature': 22.019034601350054, 'humidity': 34.025001426407705}, {'timestamp': '2024-08-02T14:30:58.936818', 'temperature': 29.995117053916754, 'humidity': 36.115627747591724}, {'timestamp': '2024-08-02T14:31:00.940565', 'temperature': 21.368067260118806, 'humidity': 37.173928542041196}]\n",
            "[{'timestamp': '2024-08-02T14:30:46.915526', 'temperature': 26.05251439898408, 'humidity': 36.41802903264367}, {'timestamp': '2024-08-02T14:30:48.919536', 'temperature': 20.600090492251343, 'humidity': 35.84133792570793}, {'timestamp': '2024-08-02T14:30:50.923026', 'temperature': 22.373319238963134, 'humidity': 36.62794069756069}, {'timestamp': '2024-08-02T14:30:52.925564', 'temperature': 20.780637418886943, 'humidity': 39.55469256766396}, {'timestamp': '2024-08-02T14:30:54.929426', 'temperature': 29.670709987206195, 'humidity': 30.486370046229}, {'timestamp': '2024-08-02T14:30:56.933226', 'temperature': 22.019034601350054, 'humidity': 34.025001426407705}, {'timestamp': '2024-08-02T14:30:58.936818', 'temperature': 29.995117053916754, 'humidity': 36.115627747591724}, {'timestamp': '2024-08-02T14:31:00.940565', 'temperature': 21.368067260118806, 'humidity': 37.173928542041196}, {'timestamp': '2024-08-02T14:31:02.944286', 'temperature': 20.237917565580414, 'humidity': 34.67600434856378}]\n",
            "[{'timestamp': '2024-08-02T14:30:46.915526', 'temperature': 26.05251439898408, 'humidity': 36.41802903264367}, {'timestamp': '2024-08-02T14:30:48.919536', 'temperature': 20.600090492251343, 'humidity': 35.84133792570793}, {'timestamp': '2024-08-02T14:30:50.923026', 'temperature': 22.373319238963134, 'humidity': 36.62794069756069}, {'timestamp': '2024-08-02T14:30:52.925564', 'temperature': 20.780637418886943, 'humidity': 39.55469256766396}, {'timestamp': '2024-08-02T14:30:54.929426', 'temperature': 29.670709987206195, 'humidity': 30.486370046229}, {'timestamp': '2024-08-02T14:30:56.933226', 'temperature': 22.019034601350054, 'humidity': 34.025001426407705}, {'timestamp': '2024-08-02T14:30:58.936818', 'temperature': 29.995117053916754, 'humidity': 36.115627747591724}, {'timestamp': '2024-08-02T14:31:00.940565', 'temperature': 21.368067260118806, 'humidity': 37.173928542041196}, {'timestamp': '2024-08-02T14:31:02.944286', 'temperature': 20.237917565580414, 'humidity': 34.67600434856378}, {'timestamp': '2024-08-02T14:31:04.948192', 'temperature': 29.258854076933744, 'humidity': 30.546598553701145}]\n"
          ]
        }
      ]
    },
    {
      "cell_type": "code",
      "source": [
        "!pip install pycryptodome\n",
        "from Crypto.Cipher import AES\n",
        "from Crypto.Util.Padding import pad, unpad\n",
        "from Crypto.Random import get_random_bytes"
      ],
      "metadata": {
        "colab": {
          "base_uri": "https://localhost:8080/"
        },
        "id": "Y-Gl_J1Y3OHq",
        "outputId": "69410754-6a54-4659-a632-25c2c234e351"
      },
      "execution_count": 8,
      "outputs": [
        {
          "output_type": "stream",
          "name": "stdout",
          "text": [
            "Collecting pycryptodome\n",
            "  Downloading pycryptodome-3.20.0-cp35-abi3-manylinux_2_17_x86_64.manylinux2014_x86_64.whl.metadata (3.4 kB)\n",
            "Downloading pycryptodome-3.20.0-cp35-abi3-manylinux_2_17_x86_64.manylinux2014_x86_64.whl (2.1 MB)\n",
            "\u001b[2K   \u001b[90m━━━━━━━━━━━━━━━━━━━━━━━━━━━━━━━━━━━━━━━━\u001b[0m \u001b[32m2.1/2.1 MB\u001b[0m \u001b[31m21.1 MB/s\u001b[0m eta \u001b[36m0:00:00\u001b[0m\n",
            "\u001b[?25hInstalling collected packages: pycryptodome\n",
            "Successfully installed pycryptodome-3.20.0\n"
          ]
        }
      ]
    },
    {
      "cell_type": "code",
      "source": [
        "\n",
        "def encrypt_data(data, key):\n",
        "    cipher = AES.new(key, AES.MODE_CBC)\n",
        "    encrypted_data = cipher.encrypt(pad(json.dumps(data).encode('utf-8'), AES.block_size))\n",
        "    return {\n",
        "        'iv': cipher.iv.hex(),\n",
        "        'encrypted_data': encrypted_data.hex()\n",
        "    }\n",
        "\n",
        "def decrypt_data(encrypted_data, key):\n",
        "    iv = bytes.fromhex(encrypted_data['iv'])\n",
        "    encrypted_data_bytes = bytes.fromhex(encrypted_data['encrypted_data'])\n",
        "    cipher = AES.new(key, AES.MODE_CBC, iv)\n",
        "    decrypted_data = unpad(cipher.decrypt(encrypted_data_bytes), AES.block_size)\n",
        "    return decrypted_data.decode('utf-8')\n",
        "\n"
      ],
      "metadata": {
        "id": "CxeGpeCj6Vmh"
      },
      "execution_count": 9,
      "outputs": []
    },
    {
      "cell_type": "code",
      "source": [
        "\n",
        "def read_data(file_path):\n",
        "    with open(file_path, 'r') as file:\n",
        "        data = json.load(file)\n",
        "    return data\n",
        "\n",
        "def write_data(file_path, data):\n",
        "    with open(file_path, 'w') as file:\n",
        "        json.dump(data, file)\n"
      ],
      "metadata": {
        "id": "tIfiILFy3w9Q"
      },
      "execution_count": 14,
      "outputs": []
    },
    {
      "cell_type": "code",
      "source": [
        "input_file = 'data.json'\n",
        "encrypted_file = 'encrypted_data.json'\n",
        "decrypted_file = 'decrypted_data.json'\n",
        "\n",
        "sensor_data = read_data(input_file)\n",
        "\n",
        "key = get_random_bytes(16)\n",
        "\n",
        "encrypted_data = encrypt_data(sensor_data, key)\n",
        "write_data(encrypted_file, encrypted_data)\n",
        "\n",
        "encrypted_json_data = read_data(encrypted_file)\n",
        "\n",
        "decrypted_data_str = decrypt_data(encrypted_json_data, key)\n",
        "decrypted_data = json.loads(decrypted_data_str)\n",
        "\n",
        "write_data(decrypted_file, decrypted_data)\n",
        "\n",
        "print(\"Original data:\", sensor_data)\n",
        "print(\"Encrypted data:\", encrypted_json_data)\n",
        "print(\"Decrypted data:\", decrypted_data)\n"
      ],
      "metadata": {
        "colab": {
          "base_uri": "https://localhost:8080/"
        },
        "id": "1P4-yfks3wxo",
        "outputId": "80532487-8bdb-4356-b4f9-f30db926d4bf"
      },
      "execution_count": 28,
      "outputs": [
        {
          "output_type": "stream",
          "name": "stdout",
          "text": [
            "Original data: [{'timestamp': '2024-08-02T14:30:46.915526', 'temperature': 26.05251439898408, 'humidity': 36.41802903264367}, {'timestamp': '2024-08-02T14:30:48.919536', 'temperature': 20.600090492251343, 'humidity': 35.84133792570793}, {'timestamp': '2024-08-02T14:30:50.923026', 'temperature': 22.373319238963134, 'humidity': 36.62794069756069}, {'timestamp': '2024-08-02T14:30:52.925564', 'temperature': 20.780637418886943, 'humidity': 39.55469256766396}, {'timestamp': '2024-08-02T14:30:54.929426', 'temperature': 29.670709987206195, 'humidity': 30.486370046229}, {'timestamp': '2024-08-02T14:30:56.933226', 'temperature': 22.019034601350054, 'humidity': 34.025001426407705}, {'timestamp': '2024-08-02T14:30:58.936818', 'temperature': 29.995117053916754, 'humidity': 36.115627747591724}, {'timestamp': '2024-08-02T14:31:00.940565', 'temperature': 21.368067260118806, 'humidity': 37.173928542041196}, {'timestamp': '2024-08-02T14:31:02.944286', 'temperature': 20.237917565580414, 'humidity': 34.67600434856378}, {'timestamp': '2024-08-02T14:31:04.948192', 'temperature': 29.258854076933744, 'humidity': 30.546598553701145}]\n",
            "Encrypted data: {'iv': '57d1b22e23e8746e924971fe40f05684', 'encrypted_data': '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'}\n",
            "Decrypted data: [{'timestamp': '2024-08-02T14:30:46.915526', 'temperature': 26.05251439898408, 'humidity': 36.41802903264367}, {'timestamp': '2024-08-02T14:30:48.919536', 'temperature': 20.600090492251343, 'humidity': 35.84133792570793}, {'timestamp': '2024-08-02T14:30:50.923026', 'temperature': 22.373319238963134, 'humidity': 36.62794069756069}, {'timestamp': '2024-08-02T14:30:52.925564', 'temperature': 20.780637418886943, 'humidity': 39.55469256766396}, {'timestamp': '2024-08-02T14:30:54.929426', 'temperature': 29.670709987206195, 'humidity': 30.486370046229}, {'timestamp': '2024-08-02T14:30:56.933226', 'temperature': 22.019034601350054, 'humidity': 34.025001426407705}, {'timestamp': '2024-08-02T14:30:58.936818', 'temperature': 29.995117053916754, 'humidity': 36.115627747591724}, {'timestamp': '2024-08-02T14:31:00.940565', 'temperature': 21.368067260118806, 'humidity': 37.173928542041196}, {'timestamp': '2024-08-02T14:31:02.944286', 'temperature': 20.237917565580414, 'humidity': 34.67600434856378}, {'timestamp': '2024-08-02T14:31:04.948192', 'temperature': 29.258854076933744, 'humidity': 30.546598553701145}]\n"
          ]
        }
      ]
    }
  ]
}